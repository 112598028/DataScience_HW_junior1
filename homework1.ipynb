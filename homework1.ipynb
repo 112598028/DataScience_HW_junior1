{
 "cells": [
  {
   "cell_type": "code",
   "execution_count": 3,
   "metadata": {},
   "outputs": [
    {
     "name": "stdout",
     "output_type": "stream",
     "text": [
      "110813061 吳宜宸\n",
      "111030001 許育瑋\n"
     ]
    }
   ],
   "source": [
    "ClassList = [\"110613037 王治凱\", \"110713016 張椀荑\", \"110813032 江浩潁\", \"110813034 李哲宇\", \n",
    "             \"110813037 余珮綺\", \"110813038 劉芯妤\", \"110813042 蕭沁宜\", \"110813043 侯廸元\",\n",
    "             \"110813045 許竣凱\", \"110813046 楊孟涵\", \"110813047 邱紫彤\", \"110813048 王芷蘋\", \n",
    "             \"110813050 賴亭涵\", \"110813053 林椲豐\", \"110813054 徐沐賢\", \"110813056 顏崇竹\",\n",
    "             \"110813057 陳琦文\", \"110813060 陳品儒\", \"110813061 吳宜宸\", \"111030001 許育瑋\",\n",
    "             \"111030002 吳秉豫\", \"111030004 李弈辰\", \"111030005 王芝琦\"]\n",
    "\n",
    "print(ClassList[18]) # 如果index是從1開始的第19位\n",
    "print(ClassList[19]) # 如果index是從0開始的第19位"
   ]
  },
  {
   "cell_type": "code",
   "execution_count": 4,
   "metadata": {},
   "outputs": [
    {
     "name": "stdout",
     "output_type": "stream",
     "text": [
      "2024 是閏年\n",
      "2028 是閏年\n",
      "2032 是閏年\n",
      "2036 是閏年\n",
      "2040 是閏年\n",
      "2044 是閏年\n",
      "2048 是閏年\n",
      "2052 是閏年\n",
      "2056 是閏年\n",
      "2060 是閏年\n",
      "2064 是閏年\n",
      "2068 是閏年\n",
      "2072 是閏年\n",
      "2076 是閏年\n",
      "2080 是閏年\n",
      "2084 是閏年\n",
      "2088 是閏年\n",
      "2092 是閏年\n",
      "2096 是閏年\n",
      "2104 是閏年\n",
      "2108 是閏年\n",
      "2112 是閏年\n",
      "2116 是閏年\n",
      "2120 是閏年\n"
     ]
    }
   ],
   "source": [
    "for i in range(2021, 2121):\n",
    "    if i%4 == 0:\n",
    "        if i%100 == 0:\n",
    "            if i%400 == 0:\n",
    "                print(i, \"是閏年\")\n",
    "            else:\n",
    "                continue\n",
    "        else:\n",
    "            print(i, \"是閏年\")\n",
    "    else:\n",
    "        continue"
   ]
  },
  {
   "cell_type": "code",
   "execution_count": null,
   "metadata": {},
   "outputs": [],
   "source": []
  }
 ],
 "metadata": {
  "kernelspec": {
   "display_name": "Python 3",
   "language": "python",
   "name": "python3"
  },
  "language_info": {
   "codemirror_mode": {
    "name": "ipython",
    "version": 3
   },
   "file_extension": ".py",
   "mimetype": "text/x-python",
   "name": "python",
   "nbconvert_exporter": "python",
   "pygments_lexer": "ipython3",
   "version": "3.8.5"
  }
 },
 "nbformat": 4,
 "nbformat_minor": 4
}
