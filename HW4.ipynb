{
 "cells": [
  {
   "cell_type": "code",
   "execution_count": 1,
   "metadata": {},
   "outputs": [],
   "source": [
    "import numpy as np\n",
    "import numpy.random as rnd"
   ]
  },
  {
   "cell_type": "code",
   "execution_count": 33,
   "metadata": {},
   "outputs": [
    {
     "name": "stdout",
     "output_type": "stream",
     "text": [
      "您抽到的牌為： ['♣5', '♠2', '♣3', '♣2', '♠A']\n",
      "牌的點數總合為： 13\n"
     ]
    }
   ],
   "source": [
    "# 21點\n",
    "\"\"\"\n",
    "重點：\n",
    "    1. 最多抽到5張牌\n",
    "    2. 總和不能夠超過21，否則為Burst\n",
    "    3. 2~10點數正常，A=1(預設為1), J/Q/K =10\n",
    "\"\"\"\n",
    "\n",
    "def Black_Jack():\n",
    "    suits = ['♣', '♠', '♦', '♥']\n",
    "    ranks = ['A', '2', '3', '4', '5', '6', '7', '8', '9', '10', 'J', 'Q', 'K']\n",
    "    deck = []\n",
    "    \n",
    "    n = 0\n",
    "    total = 0\n",
    "    # 計算抽牌次數，一種花色最多4張\n",
    "    times = [0, 0, 0, 0, 0, 0, 0, 0, 0, 0, 0, 0, 0]\n",
    "    \n",
    "    while(n<5):\n",
    "        n += 1\n",
    "        \n",
    "        s = rnd.randint(1, 4)\n",
    "        r = rnd.randint(1, 13)\n",
    "        \n",
    "        # 如果抽到的花色出現4次以內\n",
    "        if (times[r-1] < 4):\n",
    "            times[r-1] += 1\n",
    "            # 將牌新增到抽到的牌組中\n",
    "            deck.append(suits[s-1] + ranks[r-1])\n",
    "            \n",
    "            # 檢查總點數是否已經超過21\n",
    "            if r<=10:\n",
    "                total += r\n",
    "                if total>21:\n",
    "                    print(\"您抽到的牌為：\",deck)\n",
    "                    print(\"牌的點數總合為：\", total)\n",
    "                    print(\"Burst!!!\")\n",
    "                    break\n",
    "                    \n",
    "            else:\n",
    "                total += 10\n",
    "                if total>21:\n",
    "                    print(\"您抽到的牌為：\",deck)\n",
    "                    print(\"牌的點數總合為：\", total)\n",
    "                    print(\"Burst!!!\")\n",
    "                    break\n",
    "        \n",
    "        # 如果抽到的花色一經出現過4次，必須重抽\n",
    "        else:\n",
    "            # 排除抽過的數字進行重新抽取\n",
    "            r = rnd.choice(i for i in range(1, 13) if i != r)\n",
    "            times[r-1] += 1\n",
    "            # 將牌新增到抽到的牌組中\n",
    "            deck.append(suits[s-1] + ranks[r-1])\n",
    "            \n",
    "            # 檢查總點數是否已經超過21\n",
    "            if r<=10:\n",
    "                total += r\n",
    "                if total>21:\n",
    "                    print(\"您抽到的牌為：\",deck)\n",
    "                    print(\"牌的點數總合為：\", total)\n",
    "                    print(\"Burst!!!\")\n",
    "                    break\n",
    "                    \n",
    "            else:\n",
    "                total += 10\n",
    "                if total>21:\n",
    "                    print(\"您抽到的牌為：\",deck)\n",
    "                    print(\"牌的點數總合為：\", total)\n",
    "                    print(\"Burst!!!\")\n",
    "                    break\n",
    "   \n",
    "    # 最後如果沒有超過21，進行一般結果輸出\n",
    "    if total <= 21:\n",
    "        print(\"您抽到的牌為：\",deck)\n",
    "        print(\"牌的點數總合為：\", total)\n",
    "\n",
    "    \n",
    "Black_Jack()"
   ]
  },
  {
   "cell_type": "code",
   "execution_count": 35,
   "metadata": {},
   "outputs": [
    {
     "name": "stdout",
     "output_type": "stream",
     "text": [
      "1到50的總合為： 1275\n"
     ]
    }
   ],
   "source": [
    "array = np.arange(1, 51).reshape(1, 50)\n",
    "array2 = np.ones((50, 1), dtype = np.int32)\n",
    "\n",
    "total = np.dot(array, array2)\n",
    "\n",
    "print(\"1到50的總合為：\", total[0][0])"
   ]
  },
  {
   "cell_type": "code",
   "execution_count": 36,
   "metadata": {},
   "outputs": [
    {
     "name": "stdout",
     "output_type": "stream",
     "text": [
      "生成10個亂數陣列： [-0.07212882  1.02897635 -0.83886646 -1.36654601  0.88148615  1.17931509\n",
      " -0.46829597  0.09504189 -1.318434    0.47985216]\n",
      "最大值： 1.1793150891428688\n",
      "最小值： -1.3665460136228476\n",
      "總合為： -0.3995996177515846\n"
     ]
    }
   ],
   "source": [
    "import numpy.random as random\n",
    "\n",
    "rnd_data = random.randn(10)\n",
    "\n",
    "print(\"生成10個亂數陣列：\", rnd_data)\n",
    "print(\"最大值：\", rnd_data.max())\n",
    "print(\"最小值：\", rnd_data.min())\n",
    "print(\"總合為：\", rnd_data.sum())"
   ]
  },
  {
   "cell_type": "code",
   "execution_count": 37,
   "metadata": {},
   "outputs": [
    {
     "name": "stdout",
     "output_type": "stream",
     "text": [
      "元素均為3的5x5矩陣的平方為：\n",
      "[[45 45 45 45 45]\n",
      " [45 45 45 45 45]\n",
      " [45 45 45 45 45]\n",
      " [45 45 45 45 45]\n",
      " [45 45 45 45 45]]\n"
     ]
    }
   ],
   "source": [
    "ary = np.ones((5, 5), dtype = np.int32) + 2\n",
    "\n",
    "final = np.dot(ary, ary)\n",
    "\n",
    "print(\"元素均為3的5x5矩陣的平方為：\", final, sep=\"\\n\")"
   ]
  },
  {
   "cell_type": "code",
   "execution_count": null,
   "metadata": {},
   "outputs": [],
   "source": []
  }
 ],
 "metadata": {
  "kernelspec": {
   "display_name": "Python 3",
   "language": "python",
   "name": "python3"
  },
  "language_info": {
   "codemirror_mode": {
    "name": "ipython",
    "version": 3
   },
   "file_extension": ".py",
   "mimetype": "text/x-python",
   "name": "python",
   "nbconvert_exporter": "python",
   "pygments_lexer": "ipython3",
   "version": "3.8.5"
  }
 },
 "nbformat": 4,
 "nbformat_minor": 5
}
